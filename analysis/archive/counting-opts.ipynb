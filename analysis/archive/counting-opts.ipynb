{
 "cells": [
  {
   "cell_type": "code",
   "execution_count": 8,
   "metadata": {
    "collapsed": false
   },
   "outputs": [],
   "source": [
    "%matplotlib inline\n",
    "\n",
    "import matplotlib.pyplot as plt\n",
    "from matplotlib.lines import Line2D\n",
    "from matplotlib.backends.backend_pdf import PdfPages\n",
    "import dpkt\n",
    "import numpy as np\n",
    "import time\n",
    "import brewer2mpl\n",
    "import AttackAnalysis\n",
    "\n",
    "from AttackAnalysis import compute_effective_rate\n",
    "from analyze import compute_global_throughput, parse_file, removeOutliers, compute_tcp_opt_count\n",
    "from read_conf import ReadHosts\n",
    "\n",
    "reload(AttackAnalysis)\n",
    "\n",
    "host_to_ip, ip_to_host = ReadHosts('../experiment_conf/experiment_oak.conf')\n",
    "interval = 5\n",
    "root_level = 'workdir/results-nping/'"
   ]
  },
  {
   "cell_type": "markdown",
   "metadata": {},
   "source": [
    "## Counting the options"
   ]
  },
  {
   "cell_type": "code",
   "execution_count": 16,
   "metadata": {
    "collapsed": false
   },
   "outputs": [
    {
     "name": "stdout",
     "output_type": "stream",
     "text": [
      "Generating throughput for workdir/results-nping/results-nping-challenges-m17\n",
      "Time to read pcap file 0.000357151031494\n",
      "Time taken is  39.6422579288\n"
     ]
    }
   ],
   "source": [
    "prefix='results-nping-'\n",
    "capfile='servernode-log_agent-tcpdump.cap'\n",
    "postfix='challenges-m17'\n",
    "shost='servernode'\n",
    "chost='clientnode-1'\n",
    "verbose = True\n",
    "\n",
    "#get pcap file    \n",
    "post = postfix\n",
    "filename = root_level + prefix + post\n",
    "print \"Generating throughput for %s\" % filename\n",
    "filename += '/' + capfile\n",
    "\n",
    "start_time = time.time()\n",
    "    \n",
    "entry = compute_tcp_opt_count(filename, host_to_ip[chost])\n",
    "end_time = time.time()\n",
    "if verbose:\n",
    "    print \"Time taken is \", end_time - start_time"
   ]
  },
  {
   "cell_type": "code",
   "execution_count": 65,
   "metadata": {
    "collapsed": false
   },
   "outputs": [
    {
     "name": "stdout",
     "output_type": "stream",
     "text": [
      "1511204588.3\n"
     ]
    },
    {
     "data": {
      "text/plain": [
       "[<matplotlib.axis.YTick at 0x7f2a768b3550>,\n",
       " <matplotlib.axis.YTick at 0x7f2a75f6eb90>]"
      ]
     },
     "execution_count": 65,
     "metadata": {},
     "output_type": "execute_result"
    },
    {
     "data": {
      "image/png": "[encoded data removed]",
      "text/plain": [
       "<matplotlib.figure.Figure at 0x7f2a89748950>"
      ]
     },
     "metadata": {},
     "output_type": "display_data"
    }
   ],
   "source": [
    "params = {\n",
    "   'axes.labelsize': 9,\n",
    "   'text.fontsize': 10,\n",
    "   'legend.fontsize': 9,\n",
    "   'legend.handlelength': 2,\n",
    "   'xtick.labelsize': 8,\n",
    "   'ytick.labelsize': 8,\n",
    "   'text.usetex': False,\n",
    "   'figure.figsize': [6, 1]\n",
    "   }\n",
    "plt.rcParams.update(params)\n",
    "\n",
    "l_data_opt = []\n",
    "l_ts_list = []\n",
    "\n",
    "h_data_opt = []\n",
    "h_ts_list = []\n",
    "ts_min = min(entry.keys())\n",
    "for ts in entry.keys():\n",
    "    if entry[ts]==9:\n",
    "        h_ts_list.append(ts-ts_min)\n",
    "        h_data_opt.append(entry[ts]-8)\n",
    "        #l_ts_list.append(ts-ts_min)\n",
    "        #l_data_opt.append(0)\n",
    "    else:\n",
    "        l_ts_list.append(ts-ts_min)\n",
    "        l_data_opt.append(entry[ts]-4)\n",
    "        #h_ts_list.append(ts-ts_min)\n",
    "        #h_data_opt.append(0)\n",
    "\n",
    "print ts_min\n",
    "\n",
    "size = 1\n",
    "#plt.scatter(h_ts_list,h_data_opt, marker=\"s\", color=\"yellow\",s=size)\n",
    "#plt.scatter(l_ts_list,l_data_opt, marker=\"|\", color=\"red\", s=size)\n",
    "\n",
    "plt.bar(h_ts_list,h_data_opt, color=\"yellow\", linewidth=0, width=1)\n",
    "plt.bar(l_ts_list,l_data_opt, color=\"red\", linewidth=0, width=1)\n",
    "\n",
    "ax = plt.gca()\n",
    "ax.set_yticks([0,1])\n",
    "\n",
    "#ax.set_xlim(0,800)"
   ]
  },
  {
   "cell_type": "code",
   "execution_count": null,
   "metadata": {
    "collapsed": true
   },
   "outputs": [],
   "source": []
  }
 ],
 "metadata": {
  "kernelspec": {
   "display_name": "Python 2",
   "language": "python",
   "name": "python2"
  },
  "language_info": {
   "codemirror_mode": {
    "name": "ipython",
    "version": 2
   },
   "file_extension": ".py",
   "mimetype": "text/x-python",
   "name": "python",
   "nbconvert_exporter": "python",
   "pygments_lexer": "ipython2",
   "version": "2.7.6"
  }
 },
 "nbformat": 4,
 "nbformat_minor": 2
}
