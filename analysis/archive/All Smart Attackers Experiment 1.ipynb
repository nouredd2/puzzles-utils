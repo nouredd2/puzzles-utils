{
 "cells": [
  {
   "cell_type": "code",
   "execution_count": 1,
   "metadata": {
    "hideCode": false
   },
   "outputs": [],
   "source": [
    "%matplotlib inline\n",
    "\n",
    "import matplotlib.pyplot as plt\n",
    "from matplotlib.lines import Line2D\n",
    "from matplotlib.backends.backend_pdf import PdfPages\n",
    "from scipy import stats\n",
    "\n",
    "import dpkt\n",
    "import numpy as np\n",
    "import time\n",
    "import brewer2mpl\n",
    "import ClientAnalysis\n",
    "\n",
    "reload(ClientAnalysis)\n",
    "from ClientAnalysis import compute_client_percentage\n",
    "from AttackAnalysis import compute_effective_rate, compute_sending_rate\n",
    "from analyze import compute_global_throughput, parse_file, removeOutliers\n",
    "from read_conf import ReadHosts"
   ]
  },
  {
   "cell_type": "markdown",
   "metadata": {},
   "source": [
    "# The nodes that don't have the updated kernel\n",
    "* clientnode-11\n",
    "* clientnode-12\n",
    "* clientnode-13\n",
    "* clientnode-14\n",
    "* clientnode-15\n",
    "\n",
    "All attackers have old kernel"
   ]
  },
  {
   "cell_type": "code",
   "execution_count": 2,
   "metadata": {
    "hideCode": false
   },
   "outputs": [],
   "source": [
    "host_to_ip, ip_to_host = ReadHosts('../experiment_conf/experiment_oak_clone.conf')\n",
    "interval = 5\n",
    "root_dir = 'workdir/results-all-smart-attacker/'\n",
    "figures_dir = 'paper-plots/smart-attacker-exp2/'"
   ]
  },
  {
   "cell_type": "code",
   "execution_count": 3,
   "metadata": {
    "hideCode": true
   },
   "outputs": [],
   "source": [
    "linestyles = ['-', '--', '-.', ':']\n",
    "markers = []\n",
    "for m in Line2D.markers:\n",
    "    try:\n",
    "        if len(m) == 1 and m != ' ':\n",
    "            markers.append(m)\n",
    "    except TypeError:\n",
    "        pass\n",
    "\n",
    "styles = markers + [\n",
    "    r'$\\lambda$',\n",
    "    r'$\\bowtie$',\n",
    "    r'$\\circlearrowleft$',\n",
    "    r'$\\clubsuit$',\n",
    "    r'$\\checkmark$']"
   ]
  },
  {
   "cell_type": "code",
   "execution_count": 4,
   "metadata": {
    "hideCode": true
   },
   "outputs": [],
   "source": [
    "def get_througput_array (entry, interval_s):\n",
    "    num_buckets = np.size(entry.inbytes)\n",
    "    buckets = np.arange(0, num_buckets * interval_s, interval_s)\n",
    "\n",
    "    bps = 10e-6 * entry.inbytes * 8 / interval_s\n",
    "    \n",
    "    return buckets, bps"
   ]
  },
  {
   "cell_type": "code",
   "execution_count": 5,
   "metadata": {
    "hideCode": true
   },
   "outputs": [],
   "source": [
    "def compute_everything(prefix='results-exp5_1_', capfile='servernode-log_agent-tcpdump.cap',\n",
    "                       verbose=False, postfix=[''], shost='servernode'):\n",
    "    throughput = {}\n",
    "    for post in postfix:\n",
    "        filename = root_dir + prefix + post\n",
    "        print \"Generating throughput for %s\" % filename\n",
    "        filename += '/' + capfile\n",
    "\n",
    "        start_time = time.time()\n",
    "        throughput[post] = compute_global_throughput(filename, interval, host_to_ip[shost])\n",
    "        end_time = time.time()\n",
    "        if verbose:\n",
    "            print \"Time taken is \", end_time - start_time\n",
    "            \n",
    "    return throughput"
   ]
  },
  {
   "cell_type": "code",
   "execution_count": 6,
   "metadata": {
    "hideCode": true
   },
   "outputs": [],
   "source": [
    "def plot_throughput_overimpose(in_throughput, in_host_to_ip, postfix=[], \n",
    "                               host=['clientnode-1'], yincr=[5,50], ylimincr=[5,50], \n",
    "                               plt_title=['Client','Server'], ystart=[-1,-10]):\n",
    "    \n",
    "    fig = plt.figure()#figsize=(10,10))\n",
    "    k = 1\n",
    "    \n",
    "    for host_entry in host:\n",
    "        host_ip = in_host_to_ip[host_entry]\n",
    "        ax = fig.add_subplot(1,2,k)\n",
    "        \n",
    "        plotnum = 0\n",
    "        for post in postfix:\n",
    "            maxbps = 0\n",
    "            \n",
    "            th = in_throughput[post]\n",
    "            host_th = th[host_ip]\n",
    "\n",
    "            host_bucket, host_bps = get_througput_array (host_th, interval_s=interval)\n",
    "            \n",
    "            ax.plot(host_bucket, host_bps, marker=None, markerfacecolor='none', \n",
    "                    label=post, linewidth=2, color=colors[plotnum])\n",
    "            plotnum += 1\n",
    "            \n",
    "        maxbps = np.maximum(maxbps, np.max(host_bps))\n",
    "\n",
    "        plt.title(plt_title[k-1])\n",
    "        ax.grid(axis='y', color=\"0.9\", linestyle='-', linewidth=1)\n",
    "        ax.set_ylim(ystart[k-1], maxbps+ylimincr[k-1])\n",
    "        ax.set_xticks([0,100,200,300,400,500,600])\n",
    "        ax.set_xlim(0,599)\n",
    "\n",
    "        # set y ticks\n",
    "        yrange = np.arange (0,maxbps+ylimincr[k-1],yincr[k-1])\n",
    "        ax.set_yticks(yrange)\n",
    "\n",
    "        #if k%2==0:\n",
    "        #    ax.set_yticklabels([])  \n",
    "        if not k%2==0:\n",
    "            ax.set_ylabel('Throughput (Mbps)')\n",
    "        \n",
    "        ax.set_xlabel('Time (seconds)')\n",
    "        ax.spines['top'].set_visible(False)\n",
    "        ax.spines['right'].set_visible(False)\n",
    "        ax.spines['left'].set_visible(False)\n",
    "        ax.get_xaxis().tick_bottom()\n",
    "        ax.get_yaxis().tick_left()\n",
    "        ax.tick_params(axis='x', direction='out')\n",
    "        ax.tick_params(axis='y', length=0)\n",
    "        ax.set_axisbelow(True)\n",
    "\n",
    "        ax.axvspan(120,480,color='red', alpha=0.1)\n",
    "        k += 1\n",
    "        \n",
    "\n",
    "    if len(fig.axes)%2 == 0:\n",
    "        ax = fig.axes[-2]\n",
    "    else:\n",
    "        ax = fig.axes[-1]\n",
    "    \n",
    "    legend = ax.legend(loc = 9, ncol=5, bbox_to_anchor=(1.05, -0.2), borderaxespad=1.0)\n",
    "    frame = legend.get_frame()\n",
    "    frame.set_facecolor('1')\n",
    "    frame.set_edgecolor('0.75')\n",
    " \n",
    "    #plt.savefig('paper-plots/throughput-exp2-2.pdf', bbox_inches = 'tight')\n",
    "    #plt.show()"
   ]
  },
  {
   "cell_type": "code",
   "execution_count": 7,
   "metadata": {
    "hideCode": true
   },
   "outputs": [],
   "source": [
    "def plot_next_to_each_other(in_throughput, in_host_to_ip, postfix=[], host='clientnode-1',\n",
    "                            yincr=5, ylimincr=5, ystart=-1, coloridx=1):\n",
    "    fig = plt.figure()\n",
    "    plotnum = 1\n",
    "    \n",
    "    num_subplots = len(postfix)\n",
    "    if num_subplots == 0:\n",
    "        print \"[ERROR:] Empty input postfix array!\"\n",
    "        return \n",
    "    \n",
    "    host_ip = in_host_to_ip[host]\n",
    "    \n",
    "    # put three plots next to each other\n",
    "    num_rows = num_subplots / 3\n",
    "    if num_subplots % 3 > 0:\n",
    "        num_rows += 1\n",
    "    \n",
    "    k = 0\n",
    "    for post in postfix:\n",
    "        maxbps = 0\n",
    "    \n",
    "        ax = fig.add_subplot(num_rows,3,plotnum)\n",
    "        th = in_throughput[post]\n",
    "        host_th = th[host_ip]\n",
    "\n",
    "        host_bucket, host_bps = get_througput_array (host_th, interval_s=interval)\n",
    "\n",
    "        ax.plot(host_bucket, host_bps, marker=None, markerfacecolor='none', \n",
    "                label=post, linewidth=2, color=colors[coloridx])\n",
    "        plotnum += 1\n",
    "            \n",
    "        maxbps = np.maximum(maxbps, np.max(host_bps))\n",
    "\n",
    "        ax.grid(axis='y', color=\"0.9\", linestyle='-', linewidth=1)\n",
    "        ax.set_ylim(ystart, maxbps+ylimincr)\n",
    "        ax.set_xticks([0,100,200,300,400,500,600])\n",
    "        ax.set_xlim(0,599)\n",
    "\n",
    "        # set y ticks\n",
    "        yrange = np.arange (0,maxbps+ylimincr,yincr)\n",
    "        ax.set_yticks(yrange)\n",
    "\n",
    "#         if k%3==0:\n",
    "#             ax.set_yticklabels([])  \n",
    "        if k%3==0:\n",
    "            ax.set_ylabel('Throughput (Mbps)')\n",
    "        \n",
    "        ax.set_xlabel('Time (seconds)')\n",
    "        ax.spines['top'].set_visible(False)\n",
    "        ax.spines['right'].set_visible(False)\n",
    "        ax.spines['left'].set_visible(False)\n",
    "        ax.get_xaxis().tick_bottom()\n",
    "        ax.get_yaxis().tick_left()\n",
    "        ax.tick_params(axis='x', direction='out')\n",
    "        ax.tick_params(axis='y', length=0)\n",
    "        ax.set_axisbelow(True)\n",
    "        \n",
    "        # draw the average line\n",
    "        std_dev = np.std(host_bps[24:96])\n",
    "        mean = np.mean(host_bps[25:96])\n",
    "        ax.axhline(np.mean(host_bps[24:96]), linestyle='--', linewidth=1)\n",
    "        high = mean+std_dev\n",
    "        low = mean-std_dev\n",
    "        ax.fill_between(np.arange(120,480,5), high, low, alpha=0.7, linewidth=0, color=colors[-1])\n",
    "#         ax.axhline(mean+std_dev, linestyle='--', linewidth=1)\n",
    "#         ax.axhline(mean-std_dev, linestyle='--', linewidth=1)\n",
    "\n",
    "        #ax.axvspan(120,480,color='red', alpha=0.1)\n",
    "        k += 1\n",
    "        \n",
    "\n",
    "#     if num_subplots%3 == 0:\n",
    "#         ax = fig.axes[-3]\n",
    "#     elif num_subplots%3 == 2:\n",
    "#         ax = fig.axes[-2]\n",
    "#     elif num_subplots%3 == 1:\n",
    "#         ax = fig.axes[-1]\n",
    "    \n",
    "#     legend = ax.legend(loc = 9, ncol=5, bbox_to_anchor=(1.05, -0.2), borderaxespad=1.0)\n",
    "#     frame = legend.get_frame()\n",
    "#     frame.set_facecolor('1')\n",
    "#     frame.set_edgecolor('0.75')"
   ]
  },
  {
   "cell_type": "markdown",
   "metadata": {},
   "source": [
    "# Client throughput analysis"
   ]
  },
  {
   "cell_type": "code",
   "execution_count": 8,
   "metadata": {},
   "outputs": [
    {
     "ename": "KeyError",
     "evalue": "'text.fontsize is not a valid rc parameter. See rcParams.keys() for a list of valid parameters.'",
     "output_type": "error",
     "traceback": [
      "\u001b[1;31m\u001b[0m",
      "\u001b[1;31mKeyError\u001b[0mTraceback (most recent call last)",
      "\u001b[1;32m<ipython-input-8-bc0d4761dab8>\u001b[0m in \u001b[0;36m<module>\u001b[1;34m()\u001b[0m\n\u001b[0;32m     13\u001b[0m    \u001b[1;34m'figure.figsize'\u001b[0m\u001b[1;33m:\u001b[0m \u001b[1;33m[\u001b[0m\u001b[1;36m9\u001b[0m\u001b[1;33m,\u001b[0m \u001b[1;36m3\u001b[0m\u001b[1;33m]\u001b[0m\u001b[1;33m\u001b[0m\u001b[0m\n\u001b[0;32m     14\u001b[0m    }\n\u001b[1;32m---> 15\u001b[1;33m \u001b[0mplt\u001b[0m\u001b[1;33m.\u001b[0m\u001b[0mrcParams\u001b[0m\u001b[1;33m.\u001b[0m\u001b[0mupdate\u001b[0m\u001b[1;33m(\u001b[0m\u001b[0mparams\u001b[0m\u001b[1;33m)\u001b[0m\u001b[1;33m\u001b[0m\u001b[0m\n\u001b[0m",
      "\u001b[1;32mC:\\Users\\Cody\\Miniconda2\\lib\\_abcoll.pyc\u001b[0m in \u001b[0;36mupdate\u001b[1;34m(*args, **kwds)\u001b[0m\n\u001b[0;32m    564\u001b[0m             \u001b[1;32mif\u001b[0m \u001b[0misinstance\u001b[0m\u001b[1;33m(\u001b[0m\u001b[0mother\u001b[0m\u001b[1;33m,\u001b[0m \u001b[0mMapping\u001b[0m\u001b[1;33m)\u001b[0m\u001b[1;33m:\u001b[0m\u001b[1;33m\u001b[0m\u001b[0m\n\u001b[0;32m    565\u001b[0m                 \u001b[1;32mfor\u001b[0m \u001b[0mkey\u001b[0m \u001b[1;32min\u001b[0m \u001b[0mother\u001b[0m\u001b[1;33m:\u001b[0m\u001b[1;33m\u001b[0m\u001b[0m\n\u001b[1;32m--> 566\u001b[1;33m                     \u001b[0mself\u001b[0m\u001b[1;33m[\u001b[0m\u001b[0mkey\u001b[0m\u001b[1;33m]\u001b[0m \u001b[1;33m=\u001b[0m \u001b[0mother\u001b[0m\u001b[1;33m[\u001b[0m\u001b[0mkey\u001b[0m\u001b[1;33m]\u001b[0m\u001b[1;33m\u001b[0m\u001b[0m\n\u001b[0m\u001b[0;32m    567\u001b[0m             \u001b[1;32melif\u001b[0m \u001b[0mhasattr\u001b[0m\u001b[1;33m(\u001b[0m\u001b[0mother\u001b[0m\u001b[1;33m,\u001b[0m \u001b[1;34m\"keys\"\u001b[0m\u001b[1;33m)\u001b[0m\u001b[1;33m:\u001b[0m\u001b[1;33m\u001b[0m\u001b[0m\n\u001b[0;32m    568\u001b[0m                 \u001b[1;32mfor\u001b[0m \u001b[0mkey\u001b[0m \u001b[1;32min\u001b[0m \u001b[0mother\u001b[0m\u001b[1;33m.\u001b[0m\u001b[0mkeys\u001b[0m\u001b[1;33m(\u001b[0m\u001b[1;33m)\u001b[0m\u001b[1;33m:\u001b[0m\u001b[1;33m\u001b[0m\u001b[0m\n",
      "\u001b[1;32mC:\\Users\\Cody\\Miniconda2\\lib\\site-packages\\matplotlib\\__init__.pyc\u001b[0m in \u001b[0;36m__setitem__\u001b[1;34m(self, key, val)\u001b[0m\n\u001b[0;32m    917\u001b[0m             raise KeyError(\n\u001b[0;32m    918\u001b[0m                 \u001b[1;34m'%s is not a valid rc parameter. See rcParams.keys() for a '\u001b[0m\u001b[1;33m\u001b[0m\u001b[0m\n\u001b[1;32m--> 919\u001b[1;33m                 'list of valid parameters.' % (key,))\n\u001b[0m\u001b[0;32m    920\u001b[0m \u001b[1;33m\u001b[0m\u001b[0m\n\u001b[0;32m    921\u001b[0m     \u001b[1;32mdef\u001b[0m \u001b[0m__getitem__\u001b[0m\u001b[1;33m(\u001b[0m\u001b[0mself\u001b[0m\u001b[1;33m,\u001b[0m \u001b[0mkey\u001b[0m\u001b[1;33m)\u001b[0m\u001b[1;33m:\u001b[0m\u001b[1;33m\u001b[0m\u001b[0m\n",
      "\u001b[1;31mKeyError\u001b[0m: 'text.fontsize is not a valid rc parameter. See rcParams.keys() for a list of valid parameters.'"
     ]
    }
   ],
   "source": [
    "# change these for each section depending on your need\n",
    "bmap = brewer2mpl.get_map('OrRd', 'Sequential', 3)\n",
    "colors = bmap.mpl_colors\n",
    "\n",
    "params = {\n",
    "   'axes.labelsize': 9,\n",
    "   'font.size': 10,\n",
    "   'legend.fontsize': 9,\n",
    "   'legend.handlelength': 2,\n",
    "   'xtick.labelsize': 8,\n",
    "   'ytick.labelsize': 8,\n",
    "   'text.usetex': False,\n",
    "   'figure.figsize': [9, 3]\n",
    "   }\n",
    "plt.rcParams.update(params)"
   ]
  },
  {
   "cell_type": "code",
   "execution_count": null,
   "metadata": {},
   "outputs": [],
   "source": [
    "throughput = compute_everything(prefix='', postfix=['results-all-smart-attacker'], verbose=True)"
   ]
  },
  {
   "cell_type": "code",
   "execution_count": null,
   "metadata": {},
   "outputs": [],
   "source": [
    "plot_next_to_each_other(throughput, host_to_ip, postfix=['results-all-smart-attacker'], host='clientnode-1',\n",
    "                            yincr=5, ylimincr=5, ystart=-1, coloridx=1)"
   ]
  },
  {
   "cell_type": "code",
   "execution_count": null,
   "metadata": {},
   "outputs": [],
   "source": [
    "plot_next_to_each_other(throughput, host_to_ip, postfix=['results-all-smart-attacker'], host='servernode',\n",
    "                            yincr=50, ylimincr=50, ystart=-20, coloridx=1)"
   ]
  },
  {
   "cell_type": "code",
   "execution_count": null,
   "metadata": {
    "hideOutput": false
   },
   "outputs": [],
   "source": [
    "pcap_prefix = root_dir + 'results-all-smart-attacker'\n",
    "pcap_file = pcap_prefix + '/' + 'clientnode-11-dump_agent-tcpdump.cap'\n",
    "\n",
    "client_conn_percentage = compute_client_percentage(pcap_file, interval_s=5, \n",
    "                                                   verbose=False, target_ips=set())\n",
    "\n",
    "pcap_prefix = 'workdir/results-backward-compat/' + 'results-back_compatibility'\n",
    "pcap_file = pcap_prefix + '/' + 'clientnode-3-dump_agent-tcpdump.cap'\n",
    "\n",
    "client_conn_percentage_no_attacker = compute_client_percentage(pcap_file, interval_s=5, \n",
    "                                                   verbose=False, target_ips=set())\n",
    "\n",
    "pcap_prefix = root_dir + 'results-all-smart-attacker'\n",
    "pcap_file = pcap_prefix + '/' + 'clientnode-1-dump_agent-tcpdump.cap'\n",
    "\n",
    "client_conn_percentage_solver = compute_client_percentage(pcap_file, interval_s=5, \n",
    "                                                   verbose=False, target_ips=set())"
   ]
  },
  {
   "cell_type": "code",
   "execution_count": null,
   "metadata": {},
   "outputs": [],
   "source": [
    "def get_col(arr, col):\n",
    "    # Source: https://stackoverflow.com/questions/903853/how-do-you-extract-a-column-from-a-multi-dimensional-array\n",
    "    m = map(lambda x: x[col], arr)\n",
    "    return np.array(m, dtype=np.float)"
   ]
  },
  {
   "cell_type": "code",
   "execution_count": null,
   "metadata": {},
   "outputs": [],
   "source": [
    "# change these for each section depending on your need\n",
    "bmap = brewer2mpl.get_map('PuRd', 'Sequential', 3)\n",
    "colors = bmap.mpl_colors\n",
    "\n",
    "params = {\n",
    "   'axes.labelsize': 10,\n",
    "   'text.fontsize': 10,\n",
    "   'legend.fontsize': 10,\n",
    "   'legend.handlelength': 2,\n",
    "   'xtick.labelsize': 8,\n",
    "   'ytick.labelsize': 8,\n",
    "   'text.usetex': False,\n",
    "   'figure.figsize': [4, 2]\n",
    "   }\n",
    "plt.rcParams.update(params)"
   ]
  },
  {
   "cell_type": "code",
   "execution_count": null,
   "metadata": {},
   "outputs": [],
   "source": [
    "host_ip = host_to_ip['clientnode-11']\n",
    "connections_attempted = get_col(client_conn_percentage[host_ip], 0)[24:96]\n",
    "connections_established = get_col(client_conn_percentage[host_ip], 1)[24:96]\n",
    "\n",
    "connections_attempted_na = get_col(client_conn_percentage_no_attacker['10.1.9.5'], 0)[24:96]\n",
    "connections_established_na = get_col(client_conn_percentage_no_attacker['10.1.9.5'], 1)[24:96]\n",
    "\n",
    "host_ip = host_to_ip['clientnode-1']\n",
    "connections_attempted_solver = get_col(client_conn_percentage_solver[host_ip], 0)[24:96]\n",
    "connections_established_solver = get_col(client_conn_percentage_solver[host_ip], 1)[24:96]\n",
    "\n",
    "xaxis = np.arange(120, 120 + interval * len(connections_attempted), interval)\n",
    "fig = plt.figure()\n",
    "ax = fig.add_subplot(111)\n",
    "ax.plot(xaxis, 100.0 * connections_established / connections_attempted, color=colors[-1],\n",
    "       marker=None, markerfacecolor='none', label='(NA, NC)', linewidth=2)\n",
    "ax.plot(xaxis, 100.0 * connections_established_na / connections_attempted_na, color=colors[-2],\n",
    "        marker=None, markerfacecolor='none', label='(SA, NC)', linewidth=2)\n",
    "ax.plot(xaxis, 100.0 * connections_established_solver / connections_attempted_solver, color=colors[-3],\n",
    "        marker=None, markerfacecolor='none', label='(*A, SC)', linewidth=2)\n",
    "ax.set_xlabel('Time (seconds)')\n",
    "ax.set_ylabel('% of connections established')\n",
    "ax.spines['top'].set_visible(False)\n",
    "ax.spines['right'].set_visible(False)\n",
    "ax.spines['left'].set_visible(False)\n",
    "ax.get_xaxis().tick_bottom()\n",
    "ax.get_yaxis().tick_left()\n",
    "ax.tick_params(axis='x', direction='out')\n",
    "ax.tick_params(axis='y', length=0)\n",
    "ax.grid(axis='y', color=\"0.95\", linestyle='-', linewidth=1)\n",
    "ax.set_axisbelow(True)\n",
    "legend = ax.legend(loc = 1, ncol=3, bbox_to_anchor=(1.05, -0.2), borderaxespad=1.0)\n",
    "\n",
    "plt.savefig('paper-plots/adoption_impact.pdf',  bbox_inches = 'tight')"
   ]
  }
 ],
 "metadata": {
  "celltoolbar": "Hide code",
  "kernelspec": {
   "display_name": "Python 2",
   "language": "python",
   "name": "python2"
  },
  "language_info": {
   "codemirror_mode": {
    "name": "ipython",
    "version": 2
   },
   "file_extension": ".py",
   "mimetype": "text/x-python",
   "name": "python",
   "nbconvert_exporter": "python",
   "pygments_lexer": "ipython2",
   "version": "2.7.14"
  }
 },
 "nbformat": 4,
 "nbformat_minor": 2
}
