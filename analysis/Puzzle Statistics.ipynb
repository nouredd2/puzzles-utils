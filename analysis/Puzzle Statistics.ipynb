{
 "cells": [
  {
   "cell_type": "code",
   "execution_count": 1,
   "metadata": {},
   "outputs": [],
   "source": [
    "%matplotlib inline\n",
    "\n",
    "import os\n",
    "from cycler import cycler\n",
    "from datetime import datetime\n",
    "import matplotlib.pyplot as plt\n",
    "from matplotlib.lines import Line2D\n",
    "import plotly.plotly as py\n",
    "import plotly.tools as tls\n",
    "from plotly.graph_objs import *\n",
    "from parsing.argus_analysis import *\n",
    "\n",
    "\n",
    "tls.set_credentials_file(username='cguldner', api_key=os.environ['PLOTLY_API_KEY'])"
   ]
  },
  {
   "cell_type": "code",
   "execution_count": 2,
   "metadata": {},
   "outputs": [],
   "source": [
    "daemon_path = 'data/argusout/'\n",
    "module_path = 'data/moduleout/'"
   ]
  },
  {
   "cell_type": "code",
   "execution_count": 3,
   "metadata": {},
   "outputs": [],
   "source": [
    "basic_plot_params = {\n",
    "   'axes.labelsize': 14,\n",
    "   'font.size': 15,\n",
    "   'legend.fontsize': 11,\n",
    "   'legend.handlelength': 2,\n",
    "   'xtick.labelsize': 12,\n",
    "   'ytick.labelsize': 12,\n",
    "   'lines.marker': None,\n",
    "   'text.usetex': False,\n",
    "   'figure.figsize': [20, 20],\n",
    "   'axes.prop_cycle': cycler('color', ['b', 'g', 'r', 'c', 'm', 'y', 'k']) +\n",
    "                       cycler('linestyle', ['-', '--', ':', '-.', '-', '--', ':'])\n",
    "}\n",
    "\n",
    "plt.rcParams.update(basic_plot_params)"
   ]
  },
  {
   "cell_type": "code",
   "execution_count": 4,
   "metadata": {},
   "outputs": [],
   "source": [
    "def hide_nth_xtick(ax, n):\n",
    "    [l.set_visible(False) for (i,l) in enumerate(ax.xaxis.get_ticklabels()) if i % n != 0]"
   ]
  },
  {
   "cell_type": "code",
   "execution_count": 27,
   "metadata": {},
   "outputs": [],
   "source": [
    "def plot_daemon_stats(stats, node_names):\n",
    "    cpu = plt.subplot2grid((3,3), (0,0), colspan=3)\n",
    "    cpu.set_ylabel('CPU usage')\n",
    "    cpu.set_title('Percentage of CPU usage')\n",
    "    \n",
    "    mem = plt.subplot2grid((3,3), (1,0), colspan=3)\n",
    "    mem.set_ylabel('Memory (in bytes)')\n",
    "    mem.set_title('Active Memory usage')\n",
    "\n",
    "    failed = plt.subplot2grid((3,3), (2, 0))\n",
    "    failed.set_ylabel('Puzzles')\n",
    "    failed.set_title('Number of Puzzles Failed')\n",
    "\n",
    "    received = plt.subplot2grid((3,3), (2, 1))\n",
    "    received.set_ylabel('Puzzles')\n",
    "    received.set_title('Number of Puzzles Received')\n",
    "\n",
    "    sent = plt.subplot2grid((3,3), (2, 2))\n",
    "    sent.set_ylabel('Puzzles')\n",
    "    sent.set_title('Number of Puzzles Sent')\n",
    "    \n",
    "    for node in node_names:\n",
    "        cur_node = stats.get(node)\n",
    "        try:\n",
    "            cpu.plot(cur_node['Timestamp'], cur_node['cpu_percent'], label=node)\n",
    "            mem.plot(cur_node['Timestamp'], cur_node['active_memory'], label=node)\n",
    "            failed.plot(cur_node['Timestamp'], cur_node['ChallengeFailed'], label=node)\n",
    "            received.plot(cur_node['Timestamp'], cur_node['ChallengeRecvd'], label=node)\n",
    "            sent.plot(cur_node['Timestamp'], cur_node['ChallengeSent'], label=node)\n",
    "        except KeyError:\n",
    "            continue\n",
    "\n",
    "    for plot in [cpu, mem, failed, received, sent]:\n",
    "        plot.set_xlabel('Time')\n",
    "        plot.yaxis.grid()\n",
    "        \n",
    "    fig = plt.gcf()\n",
    "    fig.tight_layout(pad=1, h_pad=3.5)\n",
    "    \n",
    "    plotly_fig = tls.mpl_to_plotly(fig)\n",
    "    update = dict(\n",
    "        layout=dict(showlegend=True)\n",
    "    )\n",
    "    plot_url = py.plot_mpl(fig, update=update, filename='daemon_data')"
   ]
  },
  {
   "cell_type": "code",
   "execution_count": 28,
   "metadata": {},
   "outputs": [
    {
     "name": "stdout",
     "output_type": "stream",
     "text": [
      "The draw time for this plot will be slow for clients without much RAM.\n"
     ]
    }
   ],
   "source": [
    "daemon_stats = {}\n",
    "files = [os.path.splitext(file) for file in os.listdir(daemon_path)]\n",
    "for file in files:\n",
    "    daemon_stats[file[0]], sample_rate = get_daemon_stats_from_file(daemon_path + ''.join(file))\n",
    "\n",
    "plot_daemon_stats(daemon_stats, [f[0] for f in files])"
   ]
  },
  {
   "cell_type": "code",
   "execution_count": 53,
   "metadata": {},
   "outputs": [],
   "source": [
    "def plot_module_stats(stats, file_names):\n",
    "    fig = plt.figure()\n",
    "\n",
    "    listen_q = fig.add_subplot(211)\n",
    "    accept_q = fig.add_subplot(212)\n",
    "    for out_file in stats:\n",
    "        queue = stats.get(out_file)\n",
    "        listen_q.set_ylabel('Queue Size (in ?????)')\n",
    "        listen_q.set_title('Listen Queue Size')\n",
    "\n",
    "        accept_q.set_ylabel('Queue Size (in ?????)')\n",
    "        accept_q.set_title('Accept Queue Size')\n",
    "\n",
    "        listen_q.plot(queue['Timestamp'], queue['listen_q'], label=out_file)\n",
    "        accept_q.plot(queue['Timestamp'], queue['accept_q'], label=out_file)\n",
    "\n",
    "    for plot in [listen_q, accept_q]:\n",
    "        plot.set_xlabel('Time')\n",
    "        plot.yaxis.grid()\n",
    "    \n",
    "    fig.tight_layout(pad=1, h_pad=3.5)\n",
    "\n",
    "    plotly_fig = tls.mpl_to_plotly(fig)\n",
    "    update = dict(\n",
    "        layout=dict(showlegend=True)\n",
    "    )\n",
    "#     for plot in plotly_fig['data']:\n",
    "#         plot['legendgroup'] = ''\n",
    "#         plot['legendgroup'].update(plot['name'])\n",
    "#         print plot\n",
    "#         plotly_fig['layout']['titlefont'].update({'color':'blue', 'size':20, 'family':'monospace'})\n",
    "\n",
    "    plot_url = py.iplot_mpl(fig, update=update, filename='module_data')"
   ]
  },
  {
   "cell_type": "code",
   "execution_count": 54,
   "metadata": {},
   "outputs": [],
   "source": [
    "module_stats = {}\n",
    "files = [os.path.splitext(file) for file in os.listdir(module_path)]\n",
    "for file in files:\n",
    "    module_stats[file[0]] = get_module_stats_from_file(module_path + ''.join(file))\n",
    "    \n",
    "plot_module_stats(module_stats, [f[0] for f in files])"
   ]
  },
  {
   "cell_type": "code",
   "execution_count": null,
   "metadata": {},
   "outputs": [],
   "source": []
  }
 ],
 "metadata": {
  "kernelspec": {
   "display_name": "Python 2",
   "language": "python",
   "name": "python2"
  },
  "language_info": {
   "codemirror_mode": {
    "name": "ipython",
    "version": 2
   },
   "file_extension": ".py",
   "mimetype": "text/x-python",
   "name": "python",
   "nbconvert_exporter": "python",
   "pygments_lexer": "ipython2",
   "version": "2.7.14"
  }
 },
 "nbformat": 4,
 "nbformat_minor": 2
}
