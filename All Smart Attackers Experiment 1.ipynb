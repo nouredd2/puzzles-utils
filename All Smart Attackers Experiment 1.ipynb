{
 "cells": [
  {
   "cell_type": "code",
   "execution_count": 63,
   "metadata": {
    "hideCode": false
   },
   "outputs": [],
   "source": [
    "%matplotlib inline\n",
    "\n",
    "import matplotlib.pyplot as plt\n",
    "from matplotlib.lines import Line2D\n",
    "from matplotlib.backends.backend_pdf import PdfPages\n",
    "from scipy import stats\n",
    "\n",
    "import dpkt\n",
    "import numpy as np\n",
    "import time\n",
    "import brewer2mpl\n",
    "import ClientAnalysis\n",
    "\n",
    "reload(ClientAnalysis)\n",
    "from ClientAnalysis import compute_client_percentage\n",
    "from AttackAnalysis import compute_effective_rate, compute_sending_rate\n",
    "from analyze import compute_global_throughput, parse_file, removeOutliers\n",
    "from read_conf import ReadHosts"
   ]
  },
  {
   "cell_type": "markdown",
   "metadata": {},
   "source": [
    "# The nodes that don't have the updated kernel\n",
    "* clientnode-11\n",
    "* clientnode-12\n",
    "* clientnode-13\n",
    "* clientnode-14\n",
    "* clientnode-15\n",
    "\n",
    "All attackers have old kernel"
   ]
  },
  {
   "cell_type": "code",
   "execution_count": 22,
   "metadata": {
    "hideCode": false
   },
   "outputs": [],
   "source": [
    "host_to_ip, ip_to_host = ReadHosts('experiment_oak_clone.conf')\n",
    "interval = 5\n",
    "root_dir = 'workdir/results-all-smart-attacker/'\n",
    "figures_dir = 'paper-plots/smart-attacker-exp2/'"
   ]
  },
  {
   "cell_type": "code",
   "execution_count": 23,
   "metadata": {
    "hideCode": true
   },
   "outputs": [],
   "source": [
    "linestyles = ['-', '--', '-.', ':']\n",
    "markers = []\n",
    "for m in Line2D.markers:\n",
    "    try:\n",
    "        if len(m) == 1 and m != ' ':\n",
    "            markers.append(m)\n",
    "    except TypeError:\n",
    "        pass\n",
    "\n",
    "styles = markers + [\n",
    "    r'$\\lambda$',\n",
    "    r'$\\bowtie$',\n",
    "    r'$\\circlearrowleft$',\n",
    "    r'$\\clubsuit$',\n",
    "    r'$\\checkmark$']"
   ]
  },
  {
   "cell_type": "code",
   "execution_count": 24,
   "metadata": {
    "hideCode": true
   },
   "outputs": [],
   "source": [
    "def get_througput_array (entry, interval_s):\n",
    "    num_buckets = np.size(entry.inbytes)\n",
    "    buckets = np.arange(0, num_buckets * interval_s, interval_s)\n",
    "\n",
    "    bps = 10e-6 * entry.inbytes * 8 / interval_s\n",
    "    \n",
    "    return buckets, bps"
   ]
  },
  {
   "cell_type": "code",
   "execution_count": 25,
   "metadata": {
    "hideCode": true
   },
   "outputs": [],
   "source": [
    "def compute_everything(prefix='results-exp5_1_', capfile='servernode-log_agent-tcpdump.cap',\n",
    "                       verbose=False, postfix=[''], shost='servernode'):\n",
    "    throughput = {}\n",
    "    for post in postfix:\n",
    "        filename = root_dir + prefix + post\n",
    "        print \"Generating throughput for %s\" % filename\n",
    "        filename += '/' + capfile\n",
    "\n",
    "        start_time = time.time()\n",
    "        throughput[post] = compute_global_throughput(filename, interval, host_to_ip[shost])\n",
    "        end_time = time.time()\n",
    "        if verbose:\n",
    "            print \"Time taken is \", end_time - start_time\n",
    "            \n",
    "    return throughput"
   ]
  },
  {
   "cell_type": "code",
   "execution_count": 26,
   "metadata": {
    "hideCode": true
   },
   "outputs": [],
   "source": [
    "def plot_throughput_overimpose(in_throughput, in_host_to_ip, postfix=[], \n",
    "                               host=['clientnode-1'], yincr=[5,50], ylimincr=[5,50], \n",
    "                               plt_title=['Client','Server'], ystart=[-1,-10]):\n",
    "    \n",
    "    fig = plt.figure()#figsize=(10,10))\n",
    "    k = 1\n",
    "    \n",
    "    for host_entry in host:\n",
    "        host_ip = in_host_to_ip[host_entry]\n",
    "        ax = fig.add_subplot(1,2,k)\n",
    "        \n",
    "        plotnum = 0\n",
    "        for post in postfix:\n",
    "            maxbps = 0\n",
    "            \n",
    "            th = in_throughput[post]\n",
    "            host_th = th[host_ip]\n",
    "\n",
    "            host_bucket, host_bps = get_througput_array (host_th, interval_s=interval)\n",
    "            \n",
    "            ax.plot(host_bucket, host_bps, marker=None, markerfacecolor='none', \n",
    "                    label=post, linewidth=2, color=colors[plotnum])\n",
    "            plotnum += 1\n",
    "            \n",
    "        maxbps = np.maximum(maxbps, np.max(host_bps))\n",
    "\n",
    "        plt.title(plt_title[k-1])\n",
    "        ax.grid(axis='y', color=\"0.9\", linestyle='-', linewidth=1)\n",
    "        ax.set_ylim(ystart[k-1], maxbps+ylimincr[k-1])\n",
    "        ax.set_xticks([0,100,200,300,400,500,600])\n",
    "        ax.set_xlim(0,599)\n",
    "\n",
    "        # set y ticks\n",
    "        yrange = np.arange (0,maxbps+ylimincr[k-1],yincr[k-1])\n",
    "        ax.set_yticks(yrange)\n",
    "\n",
    "        #if k%2==0:\n",
    "        #    ax.set_yticklabels([])  \n",
    "        if not k%2==0:\n",
    "            ax.set_ylabel('Throughput (Mbps)')\n",
    "        \n",
    "        ax.set_xlabel('Time (seconds)')\n",
    "        ax.spines['top'].set_visible(False)\n",
    "        ax.spines['right'].set_visible(False)\n",
    "        ax.spines['left'].set_visible(False)\n",
    "        ax.get_xaxis().tick_bottom()\n",
    "        ax.get_yaxis().tick_left()\n",
    "        ax.tick_params(axis='x', direction='out')\n",
    "        ax.tick_params(axis='y', length=0)\n",
    "        ax.set_axisbelow(True)\n",
    "\n",
    "        ax.axvspan(120,480,color='red', alpha=0.1)\n",
    "        k += 1\n",
    "        \n",
    "\n",
    "    if len(fig.axes)%2 == 0:\n",
    "        ax = fig.axes[-2]\n",
    "    else:\n",
    "        ax = fig.axes[-1]\n",
    "    \n",
    "    legend = ax.legend(loc = 9, ncol=5, bbox_to_anchor=(1.05, -0.2), borderaxespad=1.0)\n",
    "    frame = legend.get_frame()\n",
    "    frame.set_facecolor('1')\n",
    "    frame.set_edgecolor('0.75')\n",
    " \n",
    "    #plt.savefig('paper-plots/throughput-exp2-2.pdf', bbox_inches = 'tight')\n",
    "    #plt.show()"
   ]
  },
  {
   "cell_type": "code",
   "execution_count": 27,
   "metadata": {
    "hideCode": true
   },
   "outputs": [],
   "source": [
    "def plot_next_to_each_other(in_throughput, in_host_to_ip, postfix=[], host='clientnode-1',\n",
    "                            yincr=5, ylimincr=5, ystart=-1, coloridx=1):\n",
    "    fig = plt.figure()\n",
    "    plotnum = 1\n",
    "    \n",
    "    num_subplots = len(postfix)\n",
    "    if num_subplots == 0:\n",
    "        print \"[ERROR:] Empty input postfix array!\"\n",
    "        return \n",
    "    \n",
    "    host_ip = in_host_to_ip[host]\n",
    "    \n",
    "    # put three plots next to each other\n",
    "    num_rows = num_subplots / 3\n",
    "    if num_subplots % 3 > 0:\n",
    "        num_rows += 1\n",
    "    \n",
    "    k = 0\n",
    "    for post in postfix:\n",
    "        maxbps = 0\n",
    "    \n",
    "        ax = fig.add_subplot(num_rows,3,plotnum)\n",
    "        th = in_throughput[post]\n",
    "        host_th = th[host_ip]\n",
    "\n",
    "        host_bucket, host_bps = get_througput_array (host_th, interval_s=interval)\n",
    "\n",
    "        ax.plot(host_bucket, host_bps, marker=None, markerfacecolor='none', \n",
    "                label=post, linewidth=2, color=colors[coloridx])\n",
    "        plotnum += 1\n",
    "            \n",
    "        maxbps = np.maximum(maxbps, np.max(host_bps))\n",
    "\n",
    "        ax.grid(axis='y', color=\"0.9\", linestyle='-', linewidth=1)\n",
    "        ax.set_ylim(ystart, maxbps+ylimincr)\n",
    "        ax.set_xticks([0,100,200,300,400,500,600])\n",
    "        ax.set_xlim(0,599)\n",
    "\n",
    "        # set y ticks\n",
    "        yrange = np.arange (0,maxbps+ylimincr,yincr)\n",
    "        ax.set_yticks(yrange)\n",
    "\n",
    "#         if k%3==0:\n",
    "#             ax.set_yticklabels([])  \n",
    "        if k%3==0:\n",
    "            ax.set_ylabel('Throughput (Mbps)')\n",
    "        \n",
    "        ax.set_xlabel('Time (seconds)')\n",
    "        ax.spines['top'].set_visible(False)\n",
    "        ax.spines['right'].set_visible(False)\n",
    "        ax.spines['left'].set_visible(False)\n",
    "        ax.get_xaxis().tick_bottom()\n",
    "        ax.get_yaxis().tick_left()\n",
    "        ax.tick_params(axis='x', direction='out')\n",
    "        ax.tick_params(axis='y', length=0)\n",
    "        ax.set_axisbelow(True)\n",
    "        \n",
    "        # draw the average line\n",
    "        std_dev = np.std(host_bps[24:96])\n",
    "        mean = np.mean(host_bps[25:96])\n",
    "        ax.axhline(np.mean(host_bps[24:96]), linestyle='--', linewidth=1)\n",
    "        high = mean+std_dev\n",
    "        low = mean-std_dev\n",
    "        ax.fill_between(np.arange(120,480,5), high, low, alpha=0.7, linewidth=0, color=colors[-1])\n",
    "#         ax.axhline(mean+std_dev, linestyle='--', linewidth=1)\n",
    "#         ax.axhline(mean-std_dev, linestyle='--', linewidth=1)\n",
    "\n",
    "        #ax.axvspan(120,480,color='red', alpha=0.1)\n",
    "        k += 1\n",
    "        \n",
    "\n",
    "#     if num_subplots%3 == 0:\n",
    "#         ax = fig.axes[-3]\n",
    "#     elif num_subplots%3 == 2:\n",
    "#         ax = fig.axes[-2]\n",
    "#     elif num_subplots%3 == 1:\n",
    "#         ax = fig.axes[-1]\n",
    "    \n",
    "#     legend = ax.legend(loc = 9, ncol=5, bbox_to_anchor=(1.05, -0.2), borderaxespad=1.0)\n",
    "#     frame = legend.get_frame()\n",
    "#     frame.set_facecolor('1')\n",
    "#     frame.set_edgecolor('0.75')"
   ]
  },
  {
   "cell_type": "markdown",
   "metadata": {},
   "source": [
    "# Client throughput analysis"
   ]
  },
  {
   "cell_type": "code",
   "execution_count": 11,
   "metadata": {},
   "outputs": [],
   "source": [
    "# change these for each section depending on your need\n",
    "bmap = brewer2mpl.get_map('OrRd', 'Sequential', 3)\n",
    "colors = bmap.mpl_colors\n",
    "\n",
    "params = {\n",
    "   'axes.labelsize': 9,\n",
    "   'text.fontsize': 10,\n",
    "   'legend.fontsize': 9,\n",
    "   'legend.handlelength': 2,\n",
    "   'xtick.labelsize': 8,\n",
    "   'ytick.labelsize': 8,\n",
    "   'text.usetex': False,\n",
    "   'figure.figsize': [9, 3]\n",
    "   }\n",
    "plt.rcParams.update(params)"
   ]
  },
  {
   "cell_type": "code",
   "execution_count": 13,
   "metadata": {},
   "outputs": [
    {
     "name": "stdout",
     "output_type": "stream",
     "text": [
      "Generating throughput for workdir/results-all-smart-attacker/results-all-smart-attacker\n",
      "Time to read pcap file 0.000834941864014\n",
      "Time taken is  177.899526119\n"
     ]
    }
   ],
   "source": [
    "throughput = compute_everything(prefix='', postfix=['results-all-smart-attacker'], verbose=True)"
   ]
  },
  {
   "cell_type": "code",
   "execution_count": 18,
   "metadata": {},
   "outputs": [
    {
     "data": {
      "image/png": "[encoded data removed]",
      "text/plain": [
       "<matplotlib.figure.Figure at 0x7f1c3afac890>"
      ]
     },
     "metadata": {},
     "output_type": "display_data"
    }
   ],
   "source": [
    "plot_next_to_each_other(throughput, host_to_ip, postfix=['results-all-smart-attacker'], host='clientnode-1',\n",
    "                            yincr=5, ylimincr=5, ystart=-1, coloridx=1)"
   ]
  },
  {
   "cell_type": "code",
   "execution_count": 20,
   "metadata": {},
   "outputs": [
    {
     "data": {
      "image/png": "[encoded data removed]",
      "text/plain": [
       "<matplotlib.figure.Figure at 0x7f1c3af10f10>"
      ]
     },
     "metadata": {},
     "output_type": "display_data"
    }
   ],
   "source": [
    "plot_next_to_each_other(throughput, host_to_ip, postfix=['results-all-smart-attacker'], host='servernode',\n",
    "                            yincr=50, ylimincr=50, ystart=-20, coloridx=1)"
   ]
  },
  {
   "cell_type": "code",
   "execution_count": 116,
   "metadata": {
    "hideOutput": false
   },
   "outputs": [
    {
     "name": "stdout",
     "output_type": "stream",
     "text": [
      "[WARNING:] Packets in cap file are out of order.\n",
      "+----------------------------------------------------+\n",
      "Statistics for host 10.1.3.3\n",
      "Total number of attempted connections: \t7577\n",
      "Total number of acked connections:     \t2991\n",
      "Total number of failed connections:    \t4585\n",
      "Total number of replies received:      \t7576\n",
      "Average establishment rate:            \t0.401029126525\n",
      "+----------------------------------------------------+\n",
      "[WARNING:] Packets in cap file are out of order.\n",
      "+----------------------------------------------------+\n",
      "Statistics for host 10.1.9.5\n",
      "Total number of attempted connections: \t8436\n",
      "Total number of acked connections:     \t4543\n",
      "Total number of failed connections:    \t3893\n",
      "Total number of replies received:      \t8436\n",
      "Average establishment rate:            \t0.542340757886\n",
      "+----------------------------------------------------+\n",
      "[WARNING:] Packets in cap file are out of order.\n",
      "+----------------------------------------------------+\n",
      "Statistics for host 10.1.9.3\n",
      "Total number of attempted connections: \t4638\n",
      "Total number of acked connections:     \t4638\n",
      "Total number of failed connections:    \t0\n",
      "Total number of replies received:      \t4638\n",
      "Average establishment rate:            \t1.0\n",
      "+----------------------------------------------------+\n"
     ]
    }
   ],
   "source": [
    "pcap_prefix = root_dir + 'results-all-smart-attacker'\n",
    "pcap_file = pcap_prefix + '/' + 'clientnode-11-dump_agent-tcpdump.cap'\n",
    "\n",
    "client_conn_percentage = compute_client_percentage(pcap_file, interval_s=5, \n",
    "                                                   verbose=False, target_ips=set())\n",
    "\n",
    "pcap_prefix = 'workdir/results-backward-compat/' + 'results-back_compatibility'\n",
    "pcap_file = pcap_prefix + '/' + 'clientnode-3-dump_agent-tcpdump.cap'\n",
    "\n",
    "client_conn_percentage_no_attacker = compute_client_percentage(pcap_file, interval_s=5, \n",
    "                                                   verbose=False, target_ips=set())\n",
    "\n",
    "pcap_prefix = root_dir + 'results-all-smart-attacker'\n",
    "pcap_file = pcap_prefix + '/' + 'clientnode-1-dump_agent-tcpdump.cap'\n",
    "\n",
    "client_conn_percentage_solver = compute_client_percentage(pcap_file, interval_s=5, \n",
    "                                                   verbose=False, target_ips=set())"
   ]
  },
  {
   "cell_type": "code",
   "execution_count": 76,
   "metadata": {},
   "outputs": [],
   "source": [
    "def get_col(arr, col):\n",
    "    # Source: https://stackoverflow.com/questions/903853/how-do-you-extract-a-column-from-a-multi-dimensional-array\n",
    "    m = map(lambda x: x[col], arr)\n",
    "    return np.array(m, dtype=np.float)"
   ]
  },
  {
   "cell_type": "code",
   "execution_count": 197,
   "metadata": {},
   "outputs": [],
   "source": [
    "# change these for each section depending on your need\n",
    "bmap = brewer2mpl.get_map('PuRd', 'Sequential', 3)\n",
    "colors = bmap.mpl_colors\n",
    "\n",
    "params = {\n",
    "   'axes.labelsize': 10,\n",
    "   'text.fontsize': 10,\n",
    "   'legend.fontsize': 10,\n",
    "   'legend.handlelength': 2,\n",
    "   'xtick.labelsize': 8,\n",
    "   'ytick.labelsize': 8,\n",
    "   'text.usetex': False,\n",
    "   'figure.figsize': [4, 2]\n",
    "   }\n",
    "plt.rcParams.update(params)"
   ]
  },
  {
   "cell_type": "code",
   "execution_count": 199,
   "metadata": {},
   "outputs": [
    {
     "data": {
      "image/png": "[encoded data removed]",
      "text/plain": [
       "<matplotlib.figure.Figure at 0x7f1c3a595410>"
      ]
     },
     "metadata": {},
     "output_type": "display_data"
    }
   ],
   "source": [
    "host_ip = host_to_ip['clientnode-11']\n",
    "connections_attempted = get_col(client_conn_percentage[host_ip], 0)[24:96]\n",
    "connections_established = get_col(client_conn_percentage[host_ip], 1)[24:96]\n",
    "\n",
    "connections_attempted_na = get_col(client_conn_percentage_no_attacker['10.1.9.5'], 0)[24:96]\n",
    "connections_established_na = get_col(client_conn_percentage_no_attacker['10.1.9.5'], 1)[24:96]\n",
    "\n",
    "host_ip = host_to_ip['clientnode-1']\n",
    "connections_attempted_solver = get_col(client_conn_percentage_solver[host_ip], 0)[24:96]\n",
    "connections_established_solver = get_col(client_conn_percentage_solver[host_ip], 1)[24:96]\n",
    "\n",
    "xaxis = np.arange(120, 120 + interval * len(connections_attempted), interval)\n",
    "fig = plt.figure()\n",
    "ax = fig.add_subplot(111)\n",
    "ax.plot(xaxis, 100.0 * connections_established / connections_attempted, color=colors[-1],\n",
    "       marker=None, markerfacecolor='none', label='(NA, NC)', linewidth=2)\n",
    "ax.plot(xaxis, 100.0 * connections_established_na / connections_attempted_na, color=colors[-2],\n",
    "        marker=None, markerfacecolor='none', label='(SA, NC)', linewidth=2)\n",
    "ax.plot(xaxis, 100.0 * connections_established_solver / connections_attempted_solver, color=colors[-3],\n",
    "        marker=None, markerfacecolor='none', label='(*A, SC)', linewidth=2)\n",
    "ax.set_xlabel('Time (seconds)')\n",
    "ax.set_ylabel('% of connections established')\n",
    "ax.spines['top'].set_visible(False)\n",
    "ax.spines['right'].set_visible(False)\n",
    "ax.spines['left'].set_visible(False)\n",
    "ax.get_xaxis().tick_bottom()\n",
    "ax.get_yaxis().tick_left()\n",
    "ax.tick_params(axis='x', direction='out')\n",
    "ax.tick_params(axis='y', length=0)\n",
    "ax.grid(axis='y', color=\"0.95\", linestyle='-', linewidth=1)\n",
    "ax.set_axisbelow(True)\n",
    "legend = ax.legend(loc = 1, ncol=3, bbox_to_anchor=(1.05, -0.2), borderaxespad=1.0)\n",
    "\n",
    "plt.savefig('paper-plots/adoption_impact.pdf',  bbox_inches = 'tight')"
   ]
  }
 ],
 "metadata": {
  "celltoolbar": "Hide code",
  "kernelspec": {
   "display_name": "Python 2",
   "language": "python",
   "name": "python2"
  },
  "language_info": {
   "codemirror_mode": {
    "name": "ipython",
    "version": 2
   },
   "file_extension": ".py",
   "mimetype": "text/x-python",
   "name": "python",
   "nbconvert_exporter": "python",
   "pygments_lexer": "ipython2",
   "version": "2.7.6"
  }
 },
 "nbformat": 4,
 "nbformat_minor": 2
}
