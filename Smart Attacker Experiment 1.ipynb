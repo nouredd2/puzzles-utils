{
 "cells": [
  {
   "cell_type": "code",
   "execution_count": 1,
   "metadata": {
    "hideCode": false
   },
   "outputs": [],
   "source": [
    "%matplotlib inline\n",
    "\n",
    "import matplotlib.pyplot as plt\n",
    "from matplotlib.lines import Line2D\n",
    "from matplotlib.backends.backend_pdf import PdfPages\n",
    "from scipy import stats\n",
    "\n",
    "import dpkt\n",
    "import numpy as np\n",
    "import time\n",
    "import brewer2mpl\n",
    "\n",
    "from AttackAnalysis import compute_effective_rate, compute_sending_rate\n",
    "from analyze import compute_global_throughput, parse_file, removeOutliers\n",
    "from read_conf import ReadHosts"
   ]
  },
  {
   "cell_type": "markdown",
   "metadata": {},
   "source": [
    "# The nodes that don't have the updated kernel\n",
    "* pc170, clientnode-3\n",
    "* pc159, clientnode-11\n",
    "* pc42, clientnode-7\n",
    "* pc30, clientnode-14\n",
    "* pc18, clientnode-13\n",
    "\n",
    "Attackers:\n",
    "* pc54\tattacknode-6\n",
    "* pc50\tattacknode-5\n",
    "* pc35\tattacknode-2\n",
    "* pc33\tattacknode-1\n",
    "* pc15\tattacknode-3"
   ]
  },
  {
   "cell_type": "code",
   "execution_count": 35,
   "metadata": {
    "hideCode": false
   },
   "outputs": [],
   "source": [
    "host_to_ip, ip_to_host = ReadHosts('experiment_conf/experiment_oak_new.conf')\n",
    "interval = 5\n",
    "root_dir = 'workdir/results-smart-attacker/'\n",
    "figures_dir = 'paper-plots/smart-attacker-exp1/'"
   ]
  },
  {
   "cell_type": "code",
   "execution_count": 3,
   "metadata": {
    "hideCode": false
   },
   "outputs": [],
   "source": [
    "linestyles = ['-', '--', '-.', ':']\n",
    "markers = []\n",
    "for m in Line2D.markers:\n",
    "    try:\n",
    "        if len(m) == 1 and m != ' ':\n",
    "            markers.append(m)\n",
    "    except TypeError:\n",
    "        pass\n",
    "\n",
    "styles = markers + [\n",
    "    r'$\\lambda$',\n",
    "    r'$\\bowtie$',\n",
    "    r'$\\circlearrowleft$',\n",
    "    r'$\\clubsuit$',\n",
    "    r'$\\checkmark$']"
   ]
  },
  {
   "cell_type": "code",
   "execution_count": 4,
   "metadata": {
    "hideCode": false
   },
   "outputs": [],
   "source": [
    "def get_througput_array (entry, interval_s):\n",
    "    num_buckets = np.size(entry.inbytes)\n",
    "    buckets = np.arange(0, num_buckets * interval_s, interval_s)\n",
    "\n",
    "    bps = 10e-6 * entry.inbytes * 8 / interval_s\n",
    "    \n",
    "    return buckets, bps"
   ]
  },
  {
   "cell_type": "code",
   "execution_count": 5,
   "metadata": {
    "hideCode": false
   },
   "outputs": [],
   "source": [
    "def compute_everything(prefix='results-exp5_1_', capfile='servernode-log_agent-tcpdump.cap',\n",
    "                       verbose=False, postfix=[''], shost='servernode'):\n",
    "    throughput = {}\n",
    "    for post in postfix:\n",
    "        filename = root_dir + prefix + post\n",
    "        print \"Generating throughput for %s\" % filename\n",
    "        filename += '/' + capfile\n",
    "\n",
    "        start_time = time.time()\n",
    "        throughput[post] = compute_global_throughput(filename, interval, host_to_ip[shost])\n",
    "        end_time = time.time()\n",
    "        if verbose:\n",
    "            print \"Time taken is \", end_time - start_time\n",
    "            \n",
    "    return throughput"
   ]
  },
  {
   "cell_type": "code",
   "execution_count": 6,
   "metadata": {
    "hideCode": false
   },
   "outputs": [],
   "source": [
    "def plot_throughput_overimpose(in_throughput, in_host_to_ip, postfix=[], \n",
    "                               host=['clientnode-1'], yincr=[5,50], ylimincr=[5,50], \n",
    "                               plt_title=['Client','Server'], ystart=[-1,-10]):\n",
    "    \n",
    "    fig = plt.figure()#figsize=(10,10))\n",
    "    k = 1\n",
    "    \n",
    "    for host_entry in host:\n",
    "        host_ip = in_host_to_ip[host_entry]\n",
    "        ax = fig.add_subplot(1,2,k)\n",
    "        \n",
    "        plotnum = 0\n",
    "        for post in postfix:\n",
    "            maxbps = 0\n",
    "            \n",
    "            th = in_throughput[post]\n",
    "            host_th = th[host_ip]\n",
    "\n",
    "            host_bucket, host_bps = get_througput_array (host_th, interval_s=interval)\n",
    "            \n",
    "            ax.plot(host_bucket, host_bps, marker=None, markerfacecolor='none', \n",
    "                    label=post, linewidth=2, color=colors[plotnum])\n",
    "            plotnum += 1\n",
    "            \n",
    "        maxbps = np.maximum(maxbps, np.max(host_bps))\n",
    "\n",
    "        plt.title(plt_title[k-1])\n",
    "        ax.grid(axis='y', color=\"0.9\", linestyle='-', linewidth=1)\n",
    "        ax.set_ylim(ystart[k-1], maxbps+ylimincr[k-1])\n",
    "        ax.set_xticks([0,100,200,300,400,500,600])\n",
    "        ax.set_xlim(0,599)\n",
    "\n",
    "        # set y ticks\n",
    "        yrange = np.arange (0,maxbps+ylimincr[k-1],yincr[k-1])\n",
    "        ax.set_yticks(yrange)\n",
    "\n",
    "        #if k%2==0:\n",
    "        #    ax.set_yticklabels([])  \n",
    "        if not k%2==0:\n",
    "            ax.set_ylabel('Throughput (Mbps)')\n",
    "        \n",
    "        ax.set_xlabel('Time (seconds)')\n",
    "        ax.spines['top'].set_visible(False)\n",
    "        ax.spines['right'].set_visible(False)\n",
    "        ax.spines['left'].set_visible(False)\n",
    "        ax.get_xaxis().tick_bottom()\n",
    "        ax.get_yaxis().tick_left()\n",
    "        ax.tick_params(axis='x', direction='out')\n",
    "        ax.tick_params(axis='y', length=0)\n",
    "        ax.set_axisbelow(True)\n",
    "\n",
    "        ax.axvspan(120,480,color='red', alpha=0.1)\n",
    "        k += 1\n",
    "        \n",
    "\n",
    "    if len(fig.axes)%2 == 0:\n",
    "        ax = fig.axes[-2]\n",
    "    else:\n",
    "        ax = fig.axes[-1]\n",
    "    \n",
    "    legend = ax.legend(loc = 9, ncol=5, bbox_to_anchor=(1.05, -0.2), borderaxespad=1.0)\n",
    "    frame = legend.get_frame()\n",
    "    frame.set_facecolor('1')\n",
    "    frame.set_edgecolor('0.75')\n",
    " \n",
    "    #plt.savefig('paper-plots/throughput-exp2-2.pdf', bbox_inches = 'tight')\n",
    "    #plt.show()"
   ]
  },
  {
   "cell_type": "code",
   "execution_count": 7,
   "metadata": {
    "hideCode": false
   },
   "outputs": [],
   "source": [
    "def plot_next_to_each_other(in_throughput, in_host_to_ip, postfix=[], host='clientnode-1',\n",
    "                            yincr=5, ylimincr=5, ystart=-1, coloridx=1):\n",
    "    fig = plt.figure()\n",
    "    plotnum = 1\n",
    "    \n",
    "    num_subplots = len(postfix)\n",
    "    if num_subplots == 0:\n",
    "        print \"[ERROR:] Empty input postfix array!\"\n",
    "        return \n",
    "    \n",
    "    host_ip = in_host_to_ip[host]\n",
    "    \n",
    "    # put three plots next to each other\n",
    "    num_rows = num_subplots / 3\n",
    "    if num_subplots % 3 > 0:\n",
    "        num_rows += 1\n",
    "    \n",
    "    k = 0\n",
    "    for post in postfix:\n",
    "        maxbps = 0\n",
    "    \n",
    "        ax = fig.add_subplot(num_rows,3,plotnum)\n",
    "        th = in_throughput[post]\n",
    "        host_th = th[host_ip]\n",
    "\n",
    "        host_bucket, host_bps = get_througput_array (host_th, interval_s=interval)\n",
    "\n",
    "        ax.plot(host_bucket, host_bps, marker=None, markerfacecolor='none', \n",
    "                label=post, linewidth=2, color=colors[coloridx])\n",
    "        plotnum += 1\n",
    "            \n",
    "        maxbps = np.maximum(maxbps, np.max(host_bps))\n",
    "\n",
    "        ax.grid(axis='y', color=\"0.9\", linestyle='-', linewidth=1)\n",
    "        ax.set_ylim(ystart, maxbps+ylimincr)\n",
    "        ax.set_xticks([0,100,200,300,400,500,600])\n",
    "        ax.set_xlim(0,599)\n",
    "\n",
    "        # set y ticks\n",
    "        yrange = np.arange (0,maxbps+ylimincr,yincr)\n",
    "        ax.set_yticks(yrange)\n",
    "\n",
    "#         if k%3==0:\n",
    "#             ax.set_yticklabels([])  \n",
    "        if k%3==0:\n",
    "            ax.set_ylabel('Throughput (Mbps)')\n",
    "        \n",
    "        ax.set_xlabel('Time (seconds)')\n",
    "        ax.spines['top'].set_visible(False)\n",
    "        ax.spines['right'].set_visible(False)\n",
    "        ax.spines['left'].set_visible(False)\n",
    "        ax.get_xaxis().tick_bottom()\n",
    "        ax.get_yaxis().tick_left()\n",
    "        ax.tick_params(axis='x', direction='out')\n",
    "        ax.tick_params(axis='y', length=0)\n",
    "        ax.set_axisbelow(True)\n",
    "        \n",
    "        # draw the average line\n",
    "        std_dev = np.std(host_bps[24:96])\n",
    "        mean = np.mean(host_bps[25:96])\n",
    "        ax.axhline(np.mean(host_bps[24:96]), linestyle='--', linewidth=1)\n",
    "        high = mean+std_dev\n",
    "        low = mean-std_dev\n",
    "        ax.fill_between(np.arange(120,480,5), high, low, alpha=0.7, linewidth=0, color=colors[-1])\n",
    "#         ax.axhline(mean+std_dev, linestyle='--', linewidth=1)\n",
    "#         ax.axhline(mean-std_dev, linestyle='--', linewidth=1)\n",
    "\n",
    "        #ax.axvspan(120,480,color='red', alpha=0.1)\n",
    "        k += 1\n",
    "        \n",
    "\n",
    "#     if num_subplots%3 == 0:\n",
    "#         ax = fig.axes[-3]\n",
    "#     elif num_subplots%3 == 2:\n",
    "#         ax = fig.axes[-2]\n",
    "#     elif num_subplots%3 == 1:\n",
    "#         ax = fig.axes[-1]\n",
    "    \n",
    "#     legend = ax.legend(loc = 9, ncol=5, bbox_to_anchor=(1.05, -0.2), borderaxespad=1.0)\n",
    "#     frame = legend.get_frame()\n",
    "#     frame.set_facecolor('1')\n",
    "#     frame.set_edgecolor('0.75')"
   ]
  },
  {
   "cell_type": "markdown",
   "metadata": {},
   "source": [
    "# Client throughput analysis"
   ]
  },
  {
   "cell_type": "code",
   "execution_count": 10,
   "metadata": {},
   "outputs": [],
   "source": [
    "# change these for each section depending on your need\n",
    "bmap = brewer2mpl.get_map('OrRd', 'Sequential', 3)\n",
    "colors = bmap.mpl_colors\n",
    "\n",
    "params = {\n",
    "   'axes.labelsize': 9,\n",
    "   'text.fontsize': 10,\n",
    "   'legend.fontsize': 9,\n",
    "   'legend.handlelength': 2,\n",
    "   'xtick.labelsize': 8,\n",
    "   'ytick.labelsize': 8,\n",
    "   'text.usetex': False,\n",
    "   'figure.figsize': [9, 3]\n",
    "   }\n",
    "plt.rcParams.update(params)"
   ]
  },
  {
   "cell_type": "code",
   "execution_count": 12,
   "metadata": {},
   "outputs": [
    {
     "name": "stdout",
     "output_type": "stream",
     "text": [
      "Generating throughput for workdir/results-smart-attacker/results-smart-attacker\n",
      "Time to read pcap file 0.000524997711182\n",
      "Time taken is  106.547811031\n"
     ]
    }
   ],
   "source": [
    "throughput = compute_everything(prefix='', postfix=['results-smart-attacker'], verbose=True)"
   ]
  },
  {
   "cell_type": "code",
   "execution_count": 33,
   "metadata": {},
   "outputs": [
    {
     "data": {
      "image/png": "[encoded data removed]",
      "text/plain": [
       "<matplotlib.figure.Figure at 0x7f83d2b9c2d0>"
      ]
     },
     "metadata": {},
     "output_type": "display_data"
    }
   ],
   "source": [
    "plot_next_to_each_other(throughput, host_to_ip, postfix=['results-smart-attacker'], host='clientnode-1',\n",
    "                            yincr=5, ylimincr=5, ystart=-1, coloridx=1)"
   ]
  },
  {
   "cell_type": "code",
   "execution_count": 34,
   "metadata": {},
   "outputs": [
    {
     "data": {
      "image/png": "[encoded data removed]",
      "text/plain": [
       "<matplotlib.figure.Figure at 0x7f83d2b9cfd0>"
      ]
     },
     "metadata": {},
     "output_type": "display_data"
    }
   ],
   "source": [
    "plot_next_to_each_other(throughput, host_to_ip, postfix=['results-smart-attacker'], host='servernode',\n",
    "                            yincr=50, ylimincr=50, ystart=-20, coloridx=1)"
   ]
  }
 ],
 "metadata": {
  "celltoolbar": "Hide code",
  "kernelspec": {
   "display_name": "Python 2",
   "language": "python",
   "name": "python2"
  },
  "language_info": {
   "codemirror_mode": {
    "name": "ipython",
    "version": 2
   },
   "file_extension": ".py",
   "mimetype": "text/x-python",
   "name": "python",
   "nbconvert_exporter": "python",
   "pygments_lexer": "ipython2",
   "version": "2.7.6"
  }
 },
 "nbformat": 4,
 "nbformat_minor": 2
}
