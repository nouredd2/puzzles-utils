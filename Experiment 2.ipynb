{
 "cells": [
  {
   "cell_type": "code",
   "execution_count": 30,
   "metadata": {},
   "outputs": [],
   "source": [
    "%matplotlib inline\n",
    "\n",
    "import matplotlib.pyplot as plt\n",
    "from matplotlib.lines import Line2D\n",
    "from matplotlib.backends.backend_pdf import PdfPages\n",
    "import dpkt\n",
    "import numpy as np\n",
    "import time\n",
    "import brewer2mpl\n",
    "\n",
    "from analyze import compute_global_throughput, parse_file, removeOutliers\n",
    "from read_conf import ReadHosts\n",
    "\n",
    "host_to_ip, ip_to_host = ReadHosts('experiment.conf')\n",
    "interval = 5\n",
    "root_level = 'workdir/results-hping/'"
   ]
  },
  {
   "cell_type": "code",
   "execution_count": 9,
   "metadata": {},
   "outputs": [],
   "source": [
    "linestyles = ['-', '--', '-.', ':']\n",
    "markers = []\n",
    "for m in Line2D.markers:\n",
    "    try:\n",
    "        if len(m) == 1 and m != ' ':\n",
    "            markers.append(m)\n",
    "    except TypeError:\n",
    "        pass\n",
    "\n",
    "styles = markers + [\n",
    "    r'$\\lambda$',\n",
    "    r'$\\bowtie$',\n",
    "    r'$\\circlearrowleft$',\n",
    "    r'$\\clubsuit$',\n",
    "    r'$\\checkmark$']"
   ]
  },
  {
   "cell_type": "code",
   "execution_count": 10,
   "metadata": {},
   "outputs": [],
   "source": [
    "def get_througput_array (entry, interval_s):\n",
    "    num_buckets = np.size(entry.inbytes)\n",
    "    buckets = np.arange(0, num_buckets * interval_s, interval_s)\n",
    "\n",
    "    bps = 10e-6 * entry.inbytes * 8 / interval_s\n",
    "    \n",
    "    return buckets, bps"
   ]
  },
  {
   "cell_type": "code",
   "execution_count": 11,
   "metadata": {},
   "outputs": [],
   "source": [
    "def compute_everything(prefix='results-hping-', capfile='servernode-log_agent-tcpdump.cap',\n",
    "                       verbose=False, postfix=['nodefense','cookies','challenges','challenges-k8'], \n",
    "                       shost='servernode'):\n",
    "    throughput = {}\n",
    "    for post in postfix:\n",
    "        filename = root_level + prefix + post\n",
    "        print \"Generating throughput for %s\" % filename\n",
    "        filename += '/' + capfile\n",
    "\n",
    "        start_time = time.time()\n",
    "        throughput[post] = compute_global_throughput(filename, interval, host_to_ip[shost])\n",
    "        end_time = time.time()\n",
    "        if verbose:\n",
    "            print \"Time taken is \", end_time - start_time\n",
    "            \n",
    "    return throughput"
   ]
  },
  {
   "cell_type": "code",
   "execution_count": 33,
   "metadata": {},
   "outputs": [],
   "source": [
    "def plot_throughput(in_throughput, in_host_to_ip, postfix=['nodefense','cookies','challenges'], host='clientnode-1',\n",
    "                    labels=['nodefense','cookies','challenges-m17'], \n",
    "                   ystart=[-2,-10], yincr=[5,50], ylimincr=[5,50], plt_title=['Client','Server']):\n",
    "    \n",
    "\n",
    "    bmap = brewer2mpl.get_map('PuOr', 'Diverging', 4)\n",
    "    colors = bmap.mpl_colors\n",
    "\n",
    "    #pp = PdfPages('throughput-exp2.pdf')\n",
    "    \n",
    "    params = {\n",
    "       'axes.labelsize': 9,\n",
    "       'text.fontsize': 10,\n",
    "       'legend.fontsize': 9,\n",
    "       'legend.handlelength': 2,\n",
    "       'xtick.labelsize': 8,\n",
    "       'ytick.labelsize': 8,\n",
    "       'text.usetex': False,\n",
    "       'figure.figsize': [6, 2]\n",
    "       }\n",
    "    plt.rcParams.update(params)\n",
    "\n",
    "    #figure, ax = plt.subplots()\n",
    "    fig = plt.figure()#figsize=(10,10))\n",
    "    #fig.subplots_adjust(hspace = 0.5, wspace=0.1)\n",
    "    k = 1\n",
    "    #l = []\n",
    "    #ax = plt.gca()\n",
    "    \n",
    "    for host_entry in host:\n",
    "        host_ip = in_host_to_ip[host_entry]\n",
    "        ax = fig.add_subplot(1,2,k)\n",
    "        #ax.axis('off')\n",
    "        \n",
    "        plotnum = 0\n",
    "        for post in postfix:\n",
    "            maxbps = 0\n",
    "            \n",
    "            th = in_throughput[post]\n",
    "            host_th = th[host_ip]\n",
    "\n",
    "            host_bucket, host_bps = get_througput_array (host_th, interval_s=interval)\n",
    "            \n",
    "            ax.plot(host_bucket, host_bps, marker=None, markerfacecolor='none', \n",
    "                    label=labels[plotnum], linewidth=2, color=colors[plotnum])\n",
    "            plotnum += 1\n",
    "            \n",
    "        #l.append (l1)\n",
    "        maxbps = np.maximum(maxbps, np.max(host_bps))\n",
    "\n",
    "        plt.title(plt_title[k-1])\n",
    "        ax.grid(axis='y', color=\"0.9\", linestyle='-', linewidth=1)\n",
    "        ax.set_ylim(ystart[k-1], maxbps+ylimincr[k-1])\n",
    "        ax.set_xticks([0,100,200,300,400,500,600])\n",
    "\n",
    "        # set y ticks\n",
    "        yrange = np.arange (0,maxbps+ylimincr[k-1],yincr[k-1])\n",
    "        ax.set_yticks(yrange)\n",
    "\n",
    "        #if k%2==0:\n",
    "        #    ax.set_yticklabels([])\n",
    "\n",
    "        #if k%2==0:\n",
    "        #    \n",
    "        if not k%2==0:\n",
    "            ax.set_ylabel('Throughput (Mbps)')\n",
    "        \n",
    "        ax.set_xlabel('Time (seconds)')\n",
    "        ax.spines['top'].set_visible(False)\n",
    "        ax.spines['right'].set_visible(False)\n",
    "        ax.spines['left'].set_visible(False)\n",
    "        ax.get_xaxis().tick_bottom()\n",
    "        ax.get_yaxis().tick_left()\n",
    "        ax.tick_params(axis='x', direction='out')\n",
    "        ax.tick_params(axis='y', length=0)\n",
    "        # offset the spines\n",
    "        #for spine in ax.spines.values():\n",
    "        #  spine.set_position(('outward', 5))\n",
    "        # put the grid behind\n",
    "        ax.set_axisbelow(True)\n",
    "\n",
    "        ax.axvspan(120,480,color='red', alpha=0.1)\n",
    "        k += 1\n",
    "        \n",
    "\n",
    "    if len(fig.axes)%2 == 0:\n",
    "        ax = fig.axes[-2]\n",
    "    else:\n",
    "        ax = fig.axes[-1]\n",
    "    \n",
    "    legend = ax.legend(loc = 9, ncol=5, bbox_to_anchor=(1.05, -0.2),borderaxespad=1.0)\n",
    "    frame = legend.get_frame()\n",
    "    frame.set_facecolor('1')\n",
    "    frame.set_edgecolor('0.75')\n",
    " \n",
    "    plt.savefig('paper-plots/throughput-exp2.pdf', bbox_inches = 'tight')\n",
    "    #plt.show()\n",
    "    #pp.savefig()\n",
    "    #pp.close()"
   ]
  },
  {
   "cell_type": "code",
   "execution_count": 31,
   "metadata": {},
   "outputs": [
    {
     "name": "stdout",
     "output_type": "stream",
     "text": [
      "Generating throughput for workdir/results-hping/results-hping-nodefense\n",
      "Time to read pcap file 0.000699996948242\n",
      "Time taken is  170.91898489\n",
      "Generating throughput for workdir/results-hping/results-hping-cookies\n",
      "Time to read pcap file 0.000234127044678\n",
      "Time taken is  223.576259851\n",
      "Generating throughput for workdir/results-hping/results-hping-challenges\n",
      "Time to read pcap file 0.00025486946106\n",
      "Time taken is  183.054833174\n",
      "Generating throughput for workdir/results-hping/results-hping-challenges-k8\n",
      "Time to read pcap file 0.000200986862183\n",
      "Time taken is  209.561491013\n"
     ]
    }
   ],
   "source": [
    "throughput = compute_everything(verbose=True)"
   ]
  },
  {
   "cell_type": "code",
   "execution_count": 14,
   "metadata": {},
   "outputs": [
    {
     "name": "stdout",
     "output_type": "stream",
     "text": [
      "Generating throughput for workdir/results-hping/results-hping-challenges\n",
      "Time to read pcap file 0.000359058380127\n",
      "Time taken is  185.401985884\n"
     ]
    }
   ],
   "source": [
    "throughput_ch = compute_everything(verbose=True, postfix=['challenges'])"
   ]
  },
  {
   "cell_type": "code",
   "execution_count": 15,
   "metadata": {},
   "outputs": [
    {
     "name": "stdout",
     "output_type": "stream",
     "text": [
      "Generating throughput for workdir/results-hping/results-hping-challenges-k8\n",
      "Time to read pcap file 0.000349998474121\n",
      "Time taken is  210.600626945\n"
     ]
    }
   ],
   "source": [
    "throughput_ch_k8 = compute_everything(verbose=True, postfix=['challenges-k8'])"
   ]
  },
  {
   "cell_type": "code",
   "execution_count": 16,
   "metadata": {},
   "outputs": [],
   "source": [
    "# temporary, remove when reloading the kernel\n",
    "throughput['challenges'] = throughput_ch['challenges']\n",
    "throughput['challenges-k8'] = throughput_ch_k8['challenges-k8']"
   ]
  },
  {
   "cell_type": "markdown",
   "metadata": {},
   "source": [
    "# Client throughput"
   ]
  },
  {
   "cell_type": "code",
   "execution_count": 34,
   "metadata": {},
   "outputs": [
    {
     "name": "stdout",
     "output_type": "stream",
     "text": [
      "10.1.5.3\n",
      "10.1.8.3\n"
     ]
    },
    {
     "data": {
      "image/png": "[encoded data removed]",
      "text/plain": [
       "<matplotlib.figure.Figure at 0x7fe5480cfb90>"
      ]
     },
     "metadata": {},
     "output_type": "display_data"
    }
   ],
   "source": [
    "print host_to_ip['servernode']\n",
    "print host_to_ip['clientnode-1']\n",
    "plot_throughput(throughput, host_to_ip, postfix=['nodefense','cookies','challenges-k8', 'challenges'],\n",
    "                labels=['nodefense','cookies', 'challenges-m8', 'challenges-m17'],\n",
    "               yincr=[5,50], ylimincr=[5,50], host=['clientnode-6', 'servernode'])"
   ]
  },
  {
   "cell_type": "markdown",
   "metadata": {},
   "source": [
    "# Server throughput"
   ]
  },
  {
   "cell_type": "code",
   "execution_count": null,
   "metadata": {},
   "outputs": [],
   "source": [
    "plot_throughput(throughput, host_to_ip, postfix=['nodefense','cookies','challenges', 'challenges-k8'], \n",
    "                host='servernode', yincr=50, ylimincr=50)"
   ]
  }
 ],
 "metadata": {
  "kernelspec": {
   "display_name": "Python 2",
   "language": "python",
   "name": "python2"
  },
  "language_info": {
   "codemirror_mode": {
    "name": "ipython",
    "version": 2
   },
   "file_extension": ".py",
   "mimetype": "text/x-python",
   "name": "python",
   "nbconvert_exporter": "python",
   "pygments_lexer": "ipython2",
   "version": "2.7.6"
  }
 },
 "nbformat": 4,
 "nbformat_minor": 2
}
